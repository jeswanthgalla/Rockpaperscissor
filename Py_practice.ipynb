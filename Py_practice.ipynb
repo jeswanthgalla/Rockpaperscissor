{
 "cells": [
  {
   "cell_type": "code",
   "execution_count": 30,
   "metadata": {},
   "outputs": [
    {
     "name": "stdout",
     "output_type": "stream",
     "text": [
      "Tie\n",
      "Tie\n",
      "You win\n"
     ]
    }
   ],
   "source": [
    "import random\n",
    "import tkinter as tk\n",
    "window = tk.Tk()\n",
    "window.geometry(\"400x300\")\n",
    "window.title(\"Rock Paper Scissors Game\") \n",
    "USER_SCORE = 0\n",
    "COMP_SCORE = 0\n",
    "USER_CHOICE = \"\"\n",
    "COMP_CHOICE = \"\" \n",
    "\n",
    "def choice_to_number(choice):\n",
    "    rps = {'rock':0,'paper':1,'scissor':2}\n",
    "    return rps[choice]\n",
    "def number_to_choice(number):\n",
    "    rps={0:'rock',1:'paper',2:'scissor'}\n",
    "    return rps[number]  \n",
    "def random_computer_choice():\n",
    "    return random.choice(['rock','paper','scissor']) \n",
    "def result(human_choice,comp_choice):\n",
    "    global USER_SCORE\n",
    "    global COMP_SCORE\n",
    "    user=choice_to_number(human_choice)\n",
    "    comp=choice_to_number(comp_choice)\n",
    "    if(user==comp):\n",
    "        print(\"Tie\")\n",
    "    elif((user-comp)%3==1):\n",
    "        print(\"You win\")\n",
    "        USER_SCORE+=1\n",
    "    else:\n",
    "        print(\"Comp wins\")\n",
    "        COMP_SCORE+=1\n",
    "    text_area = tk.Text(master=window,height=12,width=30,bg=\"#FFFF99\")\n",
    "    text_area.grid(column=0,row=4)\n",
    "    answer = \"Your Choice: {uc} \\nComputer's Choice : {cc} \\n Your Score : {u} \\n Computer Score : {c} \".format(uc=USER_CHOICE,cc=COMP_CHOICE,u=USER_SCORE,c=COMP_SCORE)    \n",
    "    text_area.insert(tk.END,answer) \n",
    "def rock():\n",
    "    global USER_CHOICE\n",
    "    global COMP_CHOICE\n",
    "    USER_CHOICE='rock'\n",
    "    COMP_CHOICE=random_computer_choice()\n",
    "    result(USER_CHOICE,COMP_CHOICE)\n",
    "def paper():\n",
    "    global USER_CHOICE\n",
    "    global COMP_CHOICE\n",
    "    USER_CHOICE='paper'\n",
    "    COMP_CHOICE=random_computer_choice()\n",
    "    result(USER_CHOICE,COMP_CHOICE)\n",
    "def scissor():\n",
    "    global USER_CHOICE\n",
    "    global COMP_CHOICE\n",
    "    USER_CHOICE='scissor'\n",
    "    COMP_CHOICE=random_computer_choice() \n",
    "    result(USER_CHOICE,COMP_CHOICE) \n",
    "button1 = tk.Button(text=\"       Rock       \",bg=\"white\",command=rock)\n",
    "button1.grid(column=0,row=1)\n",
    "button2 = tk.Button(text=\"       Paper      \",bg=\"orange\",command=paper)\n",
    "button2.grid(column=0,row=2)\n",
    "button3 = tk.Button(text=\"      Scissor     \",bg=\"green\",command=scissor)\n",
    "button3.grid(column=0,row=3) \n",
    "window.mainloop()"
   ]
  },
  {
   "cell_type": "code",
   "execution_count": null,
   "metadata": {},
   "outputs": [],
   "source": []
  }
 ],
 "metadata": {
  "kernelspec": {
   "display_name": "Python 3",
   "language": "python",
   "name": "python3"
  }
 },
 "nbformat": 4,
 "nbformat_minor": 2
}
